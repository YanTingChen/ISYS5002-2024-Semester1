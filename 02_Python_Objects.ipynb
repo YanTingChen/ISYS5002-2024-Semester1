{
  "nbformat": 4,
  "nbformat_minor": 0,
  "metadata": {
    "colab": {
      "provenance": [],
      "authorship_tag": "ABX9TyN3G3ZyUhSqamN9w6bArWAS",
      "include_colab_link": true
    },
    "kernelspec": {
      "name": "python3",
      "display_name": "Python 3"
    },
    "language_info": {
      "name": "python"
    }
  },
  "cells": [
    {
      "cell_type": "markdown",
      "metadata": {
        "id": "view-in-github",
        "colab_type": "text"
      },
      "source": [
        "<a href=\"https://colab.research.google.com/github/YanTingChen/ISYS5002-2024-Semester1/blob/dev/02_Python_Objects.ipynb\" target=\"_parent\"><img src=\"https://colab.research.google.com/assets/colab-badge.svg\" alt=\"Open In Colab\"/></a>"
      ]
    },
    {
      "cell_type": "markdown",
      "source": [
        "Receive information"
      ],
      "metadata": {
        "id": "g_fW5LA2QFBL"
      }
    },
    {
      "cell_type": "code",
      "source": [
        "first_number = 23\n",
        "second_number = 23\n",
        "if first_number > second_number:\n",
        "  print(\"First number is bigger.\")\n",
        "elif second_number > first_number:\n",
        "  print(\"Second number is bigger.\")\n",
        "  print(\"First number is smaller.\")\n",
        "else:\n",
        "  print(\"Nothing happen!\")"
      ],
      "metadata": {
        "id": "w-YpCEZfdx5E"
      },
      "execution_count": null,
      "outputs": []
    }
  ]
}