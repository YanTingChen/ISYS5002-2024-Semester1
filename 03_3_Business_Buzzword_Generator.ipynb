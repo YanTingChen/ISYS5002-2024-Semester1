{
  "cells": [
    {
      "cell_type": "markdown",
      "metadata": {
        "id": "view-in-github",
        "colab_type": "text"
      },
      "source": [
        "<a href=\"https://colab.research.google.com/github/YanTingChen/ISYS5002-2024-Semester1/blob/dev/03_3_Business_Buzzword_Generator.ipynb\" target=\"_parent\"><img src=\"https://colab.research.google.com/assets/colab-badge.svg\" alt=\"Open In Colab\"/></a>"
      ]
    },
    {
      "cell_type": "markdown",
      "id": "f8b21259-c1a0-4ecb-a02f-e35565841067",
      "metadata": {
        "id": "f8b21259-c1a0-4ecb-a02f-e35565841067"
      },
      "source": [
        "# Business Buzzword Generator\n",
        "\n",
        "Lets write a real-world business application using Python. We want to write a program to genrate business phrases. The program takes three lists of words, randomly picks one word from each list, combines the words into a phrase, and then prints out the phrase. Here is the psuedocode:\n",
        "\n",
        "    importing the random module\n",
        "    make three lists, one of buzzword, one of actions, and one of outcomes\n",
        "    randomly choose one buzzword, action, and outcome from each list\n",
        "    now build the phrase by \"adding\" the words together\n",
        "    output the phrase\n",
        "    \n",
        "A good use of pseudocode is each line becomes comments in the code. Each line of pseudo code has been pasted into a cell below.  Try to implement each as python statement or statements."
      ]
    },
    {
      "cell_type": "code",
      "execution_count": 19,
      "id": "6b9a2fc6-f8ae-4778-a5e7-9659136091fd",
      "metadata": {
        "id": "6b9a2fc6-f8ae-4778-a5e7-9659136091fd",
        "colab": {
          "base_uri": "https://localhost:8080/"
        },
        "outputId": "5e8e0f4c-67c9-4c02-aa73-bea95dee2585"
      },
      "outputs": [
        {
          "output_type": "stream",
          "name": "stdout",
          "text": [
            "Freemium organized social impact.\n"
          ]
        }
      ],
      "source": [
        "# importing the random module\n",
        "import random\n",
        "#  make three lists, one of buzzwords, one of actions, and one of outcomes\n",
        "buzzwords = [\"Next generation \", \"Holistic \", \"Logistics \", \"Alignment \", \"Freemium \"]\n",
        "actions = [\"produced \", \"indicated \", \"provided \", \"applied \", \"organized \"]\n",
        "outcomes = [\"social impact.\", \"save the world.\"]\n",
        "# randomly choose one buzzword, action, and outcome from each list\n",
        "buzzword = random.choice(buzzwords)\n",
        "action = random.choice(actions)\n",
        "outcome = random.choice(outcomes)\n",
        "# build the phrase by \"adding\" the words together\n",
        "phrase = buzzword + action + outcome\n",
        "# output the phrase\n",
        "print(phrase)"
      ]
    }
  ],
  "metadata": {
    "kernelspec": {
      "display_name": "Python 3 (ipykernel)",
      "language": "python",
      "name": "python3"
    },
    "language_info": {
      "codemirror_mode": {
        "name": "ipython",
        "version": 3
      },
      "file_extension": ".py",
      "mimetype": "text/x-python",
      "name": "python",
      "nbconvert_exporter": "python",
      "pygments_lexer": "ipython3",
      "version": "3.9.6"
    },
    "colab": {
      "provenance": [],
      "include_colab_link": true
    }
  },
  "nbformat": 4,
  "nbformat_minor": 5
}