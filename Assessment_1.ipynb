{
  "nbformat": 4,
  "nbformat_minor": 0,
  "metadata": {
    "colab": {
      "provenance": [],
      "authorship_tag": "ABX9TyPMHDlpKQ/9I4ONzWpGMG9Y",
      "include_colab_link": true
    },
    "kernelspec": {
      "name": "python3",
      "display_name": "Python 3"
    },
    "language_info": {
      "name": "python"
    }
  },
  "cells": [
    {
      "cell_type": "markdown",
      "metadata": {
        "id": "view-in-github",
        "colab_type": "text"
      },
      "source": [
        "<a href=\"https://colab.research.google.com/github/YanTingChen/ISYS5002-2024-Semester1/blob/dev/Assessment_1.ipynb\" target=\"_parent\"><img src=\"https://colab.research.google.com/assets/colab-badge.svg\" alt=\"Open In Colab\"/></a>"
      ]
    },
    {
      "cell_type": "code",
      "source": [
        "import matplotlib.pyplot as plt\n",
        "\n",
        "key = []\n",
        "months = []\n",
        "locations = []\n",
        "avg_temp = []\n",
        "ttl_rain = []\n",
        "avg_wind = []\n",
        "data_set = {}\n",
        "\n",
        "try:\n",
        "  # 2 place\n",
        "  for i in range(2):\n",
        "    location = input(\"Please enter location: \")\n",
        "    data_set[location] = {\n",
        "      'months': months,\n",
        "      'avg_temp': avg_temp,\n",
        "      'ttl_rain': ttl_rain,\n",
        "      'avg_wind': avg_wind\n",
        "    }\n",
        "    # 12 months\n",
        "    for j in range(12):\n",
        "      month = input(\"Please enter month: \")\n",
        "      temp = float(input(\"Please enter temperature : \"))\n",
        "      rain = float(input(\"Please enter precipitation  : \"))\n",
        "      wind = float(input(\"Please enter wind speed : \"))\n",
        "      months.append(month)\n",
        "      avg_temp.append(temp)\n",
        "      ttl_rain.append(rain)\n",
        "      avg_wind.append(wind)\n",
        "    months = []\n",
        "    avg_temp = []\n",
        "    ttl_rain = []\n",
        "    avg_wind = []\n",
        "except:\n",
        "  print('Invalid imput. Please input numerical value.')\n",
        "\n",
        "def generate_plot(data_set):\n",
        "  for i in data_set.keys():\n",
        "    key.append(i)\n",
        "  location_1 = data_set[key[0]]\n",
        "  location_2 = data_set[key[1]]\n",
        "  #(1) Temperature Trends\n",
        "  if an_type == 1:\n",
        "    plt.figure(figsize=(10, 6))\n",
        "    plt.plot(location_1['months'], location_1['avg_temp'], marker='o', label=key[0])\n",
        "    plt.plot(location_2['months'], location_2['avg_temp'], marker='o', label=key[1])\n",
        "    plt.xlabel('Month')\n",
        "    plt.ylabel('°C')\n",
        "    plt.title('Temperature Trends Over The Year')\n",
        "  #(2) Precipitation Comparison\n",
        "  if an_type == 2:\n",
        "    ttl_prep1 = sum(location_1['ttl_rain'])\n",
        "    ttl_prep2 = sum(location_2['ttl_rain'])\n",
        "    fig, ax = plt.subplots()\n",
        "    bar_labels = key\n",
        "    bar_colors = ['tab:blue', 'tab:orange']\n",
        "    ax.bar_label(ax.bar(key, [ttl_prep1, ttl_prep2], label=bar_labels, color=bar_colors), label_type='edge')\n",
        "    ax.set_xlabel('Location')\n",
        "    ax.set_ylabel('mm')\n",
        "    ax.set_title('Precipitation Comparison')\n",
        "    ax.legend(title='Location')\n",
        "  #(3) Wind Speed Variation\n",
        "  if an_type == 3:\n",
        "    plt.figure(figsize=(10, 6))\n",
        "    plt.plot(location_1['months'], location_1['avg_wind'], marker='o', label=key[0])\n",
        "    plt.plot(location_2['months'], location_2['avg_wind'], marker='o', label=key[1])\n",
        "    plt.xlabel('Month')\n",
        "    plt.ylabel('km/h')\n",
        "    plt.title('Wind Speed Variation')\n",
        "\n",
        "  # Show the plot\n",
        "  plt.xticks(rotation=45)\n",
        "  plt.grid(False)\n",
        "  plt.legend(key)\n",
        "  plt.tight_layout()\n",
        "  plt.show()\n",
        "  return"
      ],
      "metadata": {
        "id": "vpzldxoj1NOl"
      },
      "execution_count": null,
      "outputs": []
    },
    {
      "cell_type": "code",
      "source": [
        "an_type = int(input(\"Please enter (1) Temperature Trends, (2) Precipitation Comparison, or (3) Wind Speed Variation: \"))\n",
        "generate_plot(data_set)"
      ],
      "metadata": {
        "id": "sbJp3AIiAwu1"
      },
      "execution_count": null,
      "outputs": []
    }
  ]
}