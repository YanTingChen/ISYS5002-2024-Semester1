{
  "nbformat": 4,
  "nbformat_minor": 0,
  "metadata": {
    "colab": {
      "provenance": [],
      "toc_visible": true,
      "authorship_tag": "ABX9TyMobJkwR4to/gbWmpgR8M9v",
      "include_colab_link": true
    },
    "kernelspec": {
      "name": "python3",
      "display_name": "Python 3"
    },
    "language_info": {
      "name": "python"
    }
  },
  "cells": [
    {
      "cell_type": "markdown",
      "metadata": {
        "id": "view-in-github",
        "colab_type": "text"
      },
      "source": [
        "<a href=\"https://colab.research.google.com/github/YanTingChen/ISYS5002-2024-Semester1/blob/dev/01_01_my_first_python_notebook.ipynb\" target=\"_parent\"><img src=\"https://colab.research.google.com/assets/colab-badge.svg\" alt=\"Open In Colab\"/></a>"
      ]
    },
    {
      "cell_type": "code",
      "execution_count": 2,
      "metadata": {
        "id": "4TpEZJQJIl3s",
        "colab": {
          "base_uri": "https://localhost:8080/"
        },
        "outputId": "6e92cff0-657c-4e00-aad5-7dc0f8a7faa8"
      },
      "outputs": [
        {
          "output_type": "stream",
          "name": "stdout",
          "text": [
            "This is first python lesson\n"
          ]
        }
      ],
      "source": [
        "print (\"This is first python lesson\")"
      ]
    },
    {
      "cell_type": "markdown",
      "source": [
        "##My first python notebook ✌"
      ],
      "metadata": {
        "id": "ktW6eB_mK2YW"
      }
    },
    {
      "cell_type": "code",
      "source": [
        "#import the random module which have the choice method\n",
        "import random\n",
        "\n",
        "#creates a list of names\n",
        "#assign the list to a varible name (storge container) to hold the list items\n",
        "customers = ['Jimmy', 'Kim', 'John', 'Stacie']\n",
        "#choose randomly a name from the list - customer's list\n",
        "#assigns the chosen name (value) a varible (storage) named winner\n",
        "winner = random.choice(customers)\n",
        "#assign a value 'vanilla' into new varible named 'flavor'\n",
        "flavor = 'vanilla'\n",
        "#display/print the statement to the screen/user\n",
        "print('Congratulations ' + winner + ' you have won an ice cream sundae!')\n",
        "prompt = 'Would you like a cherry on top? '\n",
        "wants_cherry = input(prompt)\n",
        "order = flavor + ' sundae'\n",
        "if (wants_cherry == 'yes'):\n",
        " order = order + ' with a cherry on top'\n",
        "\n",
        "print('One ' + order + ' for ' + winner + ' coming right up...')"
      ],
      "metadata": {
        "colab": {
          "base_uri": "https://localhost:8080/"
        },
        "id": "OW4XE6dtNPQt",
        "outputId": "5fc76b54-7c4d-40c3-8c2e-7cf3ad7e12bf"
      },
      "execution_count": 12,
      "outputs": [
        {
          "output_type": "stream",
          "name": "stdout",
          "text": [
            "Congratulations John you have won an ice cream sundae!\n",
            "Would you like a cherry on top? no\n",
            "One vanilla sundae for John coming right up...\n"
          ]
        }
      ]
    }
  ]
}