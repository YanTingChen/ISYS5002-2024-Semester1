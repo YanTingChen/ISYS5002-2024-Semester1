{
  "nbformat": 4,
  "nbformat_minor": 0,
  "metadata": {
    "colab": {
      "provenance": [],
      "include_colab_link": true
    },
    "kernelspec": {
      "name": "python3",
      "display_name": "Python 3"
    },
    "language_info": {
      "name": "python"
    }
  },
  "cells": [
    {
      "cell_type": "markdown",
      "metadata": {
        "id": "view-in-github",
        "colab_type": "text"
      },
      "source": [
        "<a href=\"https://colab.research.google.com/github/YanTingChen/ISYS5002-2024-Semester1/blob/dev/05_2_using_paycalc.ipynb\" target=\"_parent\"><img src=\"https://colab.research.google.com/assets/colab-badge.svg\" alt=\"Open In Colab\"/></a>"
      ]
    },
    {
      "cell_type": "markdown",
      "source": [
        "## import paycalc module"
      ],
      "metadata": {
        "id": "psgn2zwBTZkM"
      }
    },
    {
      "cell_type": "code",
      "source": [
        "import paycalc as pay"
      ],
      "metadata": {
        "id": "1iSGQfwlQL45"
      },
      "execution_count": 11,
      "outputs": []
    },
    {
      "cell_type": "markdown",
      "source": [
        "## call the relevant functions from the `paycalc` module to\n",
        "* get user input\n",
        "* calculate the pay\n",
        "* print the payslip"
      ],
      "metadata": {
        "id": "Mq_ihQNxTfX1"
      }
    },
    {
      "cell_type": "code",
      "source": [
        "import paycalc as pay\n",
        "name, salary, sales, comm_rate = pay.user_input()\n",
        "comm_result, tax_result, pay_result = pay.calculate_pay(salary, sales, comm_rate)\n",
        "pay.print_payslip(name, salary, comm_result, tax_result, pay_result)"
      ],
      "metadata": {
        "id": "l-PmDv0fRvQC"
      },
      "execution_count": null,
      "outputs": []
    }
  ]
}